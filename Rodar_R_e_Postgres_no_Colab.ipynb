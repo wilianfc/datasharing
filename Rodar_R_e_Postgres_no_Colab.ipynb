{
  "nbformat": 4,
  "nbformat_minor": 0,
  "metadata": {
    "colab": {
      "name": "Rodar_R_e Postgres_no_Colab.ipynb",
      "provenance": [],
      "collapsed_sections": [],
      "authorship_tag": "ABX9TyMEKao8fKJ1Ne84PmXvZZJx",
      "include_colab_link": true
    },
    "kernelspec": {
      "name": "python3",
      "display_name": "Python 3"
    }
  },
  "cells": [
    {
      "cell_type": "markdown",
      "metadata": {
        "id": "view-in-github",
        "colab_type": "text"
      },
      "source": [
        "<a href=\"https://colab.research.google.com/github/wilianfc/datasharing/blob/master/Rodar_R_e_Postgres_no_Colab.ipynb\" target=\"_parent\"><img src=\"https://colab.research.google.com/assets/colab-badge.svg\" alt=\"Open In Colab\"/></a>"
      ]
    },
    {
      "cell_type": "markdown",
      "metadata": {
        "id": "hPtGqNO2XRqo"
      },
      "source": [
        "**R no Colab**\r\n",
        "\r\n",
        "Podemos rodar o R no Colab de 2 formas:"
      ]
    },
    {
      "cell_type": "markdown",
      "metadata": {
        "id": "1ZteUGeCVsPB"
      },
      "source": [
        "1) Usar o Rmagic para execurar o fragmento R em cada linha."
      ]
    },
    {
      "cell_type": "markdown",
      "metadata": {
        "id": "0PfVvNHzpMsb"
      },
      "source": [
        ""
      ]
    },
    {
      "cell_type": "code",
      "metadata": {
        "id": "bDFXr0pEVY-B"
      },
      "source": [
        "%load_ext rpy2.ipython"
      ],
      "execution_count": 10,
      "outputs": []
    },
    {
      "cell_type": "markdown",
      "metadata": {
        "id": "VKX1rHeKV9Nx"
      },
      "source": [
        "Depois disso, toda vez que quiser usar R, adicione %%R no início de cada célula."
      ]
    },
    {
      "cell_type": "code",
      "metadata": {
        "colab": {
          "base_uri": "https://localhost:8080/"
        },
        "id": "nECQ5H11VrhK",
        "outputId": "531d2302-e31b-4935-cb39-4be4ac4059d4"
      },
      "source": [
        "%%R \r\n",
        "x <- seq (0, 2 * pi, length.out = 50) \r\n",
        "x"
      ],
      "execution_count": null,
      "outputs": [
        {
          "output_type": "stream",
          "text": [
            " [1] 0.0000000 0.1282283 0.2564565 0.3846848 0.5129131 0.6411414 0.7693696\n",
            " [8] 0.8975979 1.0258262 1.1540544 1.2822827 1.4105110 1.5387393 1.6669675\n",
            "[15] 1.7951958 1.9234241 2.0516523 2.1798806 2.3081089 2.4363372 2.5645654\n",
            "[22] 2.6927937 2.8210220 2.9492502 3.0774785 3.2057068 3.3339351 3.4621633\n",
            "[29] 3.5903916 3.7186199 3.8468481 3.9750764 4.1033047 4.2315330 4.3597612\n",
            "[36] 4.4879895 4.6162178 4.7444460 4.8726743 5.0009026 5.1291309 5.2573591\n",
            "[43] 5.3855874 5.5138157 5.6420439 5.7702722 5.8985005 6.0267288 6.1549570\n",
            "[50] 6.2831853\n"
          ],
          "name": "stdout"
        }
      ]
    },
    {
      "cell_type": "markdown",
      "metadata": {
        "id": "82hSg5OVX74P"
      },
      "source": [
        "Copiar a variável de R para Python"
      ]
    },
    {
      "cell_type": "code",
      "metadata": {
        "colab": {
          "base_uri": "https://localhost:8080/"
        },
        "id": "dmmGUP1AXrrj",
        "outputId": "e4fbc658-11cc-4781-82c6-9d090f75f4d8"
      },
      "source": [
        "x =% R x\r\n",
        "x"
      ],
      "execution_count": null,
      "outputs": [
        {
          "output_type": "execute_result",
          "data": {
            "text/plain": [
              "array([0.        , 0.12822827, 0.25645654, 0.38468481, 0.51291309,\n",
              "       0.64114136, 0.76936963, 0.8975979 , 1.02582617, 1.15405444,\n",
              "       1.28228272, 1.41051099, 1.53873926, 1.66696753, 1.7951958 ,\n",
              "       1.92342407, 2.05165235, 2.17988062, 2.30810889, 2.43633716,\n",
              "       2.56456543, 2.6927937 , 2.82102197, 2.94925025, 3.07747852,\n",
              "       3.20570679, 3.33393506, 3.46216333, 3.5903916 , 3.71861988,\n",
              "       3.84684815, 3.97507642, 4.10330469, 4.23153296, 4.35976123,\n",
              "       4.48798951, 4.61621778, 4.74444605, 4.87267432, 5.00090259,\n",
              "       5.12913086, 5.25735913, 5.38558741, 5.51381568, 5.64204395,\n",
              "       5.77027222, 5.89850049, 6.02672876, 6.15495704, 6.28318531])"
            ]
          },
          "metadata": {
            "tags": []
          },
          "execution_count": 6
        }
      ]
    },
    {
      "cell_type": "markdown",
      "metadata": {
        "id": "jFalrl4yYbS0"
      },
      "source": [
        "2) Criar o arquivo Colab para ser R nativo\r\n",
        "\r\n",
        "Para usar o notebook diretamente com R:\r\n",
        "\r\n",
        "Abra seu navegador favorito.\r\n",
        "\r\n",
        "Vá para este URL: https://colab.research.google.com/#create=true&language=r , ou este URL curto https://colab.to/r\r\n",
        "\r\n",
        "Após acessar o URL, você será levado a um novo bloco de notas Colab com o título padrão Unitled.ipynb.\r\n",
        "\r\n",
        "À primeira vista, não há diferença entre notebooks com tempos de execução Python e R. No entanto, se formos para as configurações de “Runtime” e selecionar “Alterar tipo de tempo de execução”, obteremos uma caixa de diálogo confirmando que já estamos em R runtime.\r\n",
        "\r\n",
        "![image.png](data:image/png;base64,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)"
      ]
    },
    {
      "cell_type": "markdown",
      "metadata": {
        "id": "M4ocjXxedX4V"
      },
      "source": [
        "Parabéns, agora você executou com sucesso o R no Colab. Você pode verificar a versão R digitando **R.version.string** para imprimir a versão R."
      ]
    },
    {
      "cell_type": "markdown",
      "metadata": {
        "id": "d6KsIKTeo8yI"
      },
      "source": [
        "**Postgres no colab:**\r\n",
        "\r\n",
        "Para instalar o Postgres SQL:"
      ]
    },
    {
      "cell_type": "code",
      "metadata": {
        "id": "KOyeIm3-obP0",
        "colab": {
          "base_uri": "https://localhost:8080/"
        },
        "outputId": "126fefc7-cbce-4be1-d329-cb9e3072f013"
      },
      "source": [
        "# Install postgresql server\r\n",
        "!sudo apt-get -y -qq update\r\n",
        "!sudo apt-get -y -qq install postgresql\r\n",
        "!sudo service postgresql start\r\n",
        "\r\n",
        "# Setup a password `postgres` for username `postgres`\r\n",
        "!sudo -u postgres psql -U postgres -c \"ALTER USER postgres PASSWORD 'postgres';\"\r\n"
      ],
      "execution_count": 4,
      "outputs": [
        {
          "output_type": "stream",
          "text": [
            "debconf: unable to initialize frontend: Dialog\n",
            "debconf: (No usable dialog-like program is installed, so the dialog based frontend cannot be used. at /usr/share/perl5/Debconf/FrontEnd/Dialog.pm line 76, <> line 10.)\n",
            "debconf: falling back to frontend: Readline\n",
            "debconf: unable to initialize frontend: Readline\n",
            "debconf: (This frontend requires a controlling tty.)\n",
            "debconf: falling back to frontend: Teletype\n",
            "dpkg-preconfigure: unable to re-open stdin: \n",
            "Selecting previously unselected package cron.\n",
            "(Reading database ... 160975 files and directories currently installed.)\n",
            "Preparing to unpack .../0-cron_3.0pl1-128.1ubuntu1_amd64.deb ...\n",
            "Unpacking cron (3.0pl1-128.1ubuntu1) ...\n",
            "Selecting previously unselected package logrotate.\n",
            "Preparing to unpack .../1-logrotate_3.11.0-0.1ubuntu1_amd64.deb ...\n",
            "Unpacking logrotate (3.11.0-0.1ubuntu1) ...\n",
            "Selecting previously unselected package netbase.\n",
            "Preparing to unpack .../2-netbase_5.4_all.deb ...\n",
            "Unpacking netbase (5.4) ...\n",
            "Selecting previously unselected package postgresql-client-common.\n",
            "Preparing to unpack .../3-postgresql-client-common_190ubuntu0.1_all.deb ...\n",
            "Unpacking postgresql-client-common (190ubuntu0.1) ...\n",
            "Selecting previously unselected package postgresql-client-10.\n",
            "Preparing to unpack .../4-postgresql-client-10_10.16-0ubuntu0.18.04.1_amd64.deb ...\n",
            "Unpacking postgresql-client-10 (10.16-0ubuntu0.18.04.1) ...\n",
            "Selecting previously unselected package ssl-cert.\n",
            "Preparing to unpack .../5-ssl-cert_1.0.39_all.deb ...\n",
            "Unpacking ssl-cert (1.0.39) ...\n",
            "Selecting previously unselected package postgresql-common.\n",
            "Preparing to unpack .../6-postgresql-common_190ubuntu0.1_all.deb ...\n",
            "Adding 'diversion of /usr/bin/pg_config to /usr/bin/pg_config.libpq-dev by postgresql-common'\n",
            "Unpacking postgresql-common (190ubuntu0.1) ...\n",
            "Selecting previously unselected package postgresql-10.\n",
            "Preparing to unpack .../7-postgresql-10_10.16-0ubuntu0.18.04.1_amd64.deb ...\n",
            "Unpacking postgresql-10 (10.16-0ubuntu0.18.04.1) ...\n",
            "Selecting previously unselected package postgresql.\n",
            "Preparing to unpack .../8-postgresql_10+190ubuntu0.1_all.deb ...\n",
            "Unpacking postgresql (10+190ubuntu0.1) ...\n",
            "Selecting previously unselected package sysstat.\n",
            "Preparing to unpack .../9-sysstat_11.6.1-1ubuntu0.1_amd64.deb ...\n",
            "Unpacking sysstat (11.6.1-1ubuntu0.1) ...\n",
            "Setting up sysstat (11.6.1-1ubuntu0.1) ...\n",
            "debconf: unable to initialize frontend: Dialog\n",
            "debconf: (No usable dialog-like program is installed, so the dialog based frontend cannot be used. at /usr/share/perl5/Debconf/FrontEnd/Dialog.pm line 76.)\n",
            "debconf: falling back to frontend: Readline\n",
            "\n",
            "Creating config file /etc/default/sysstat with new version\n",
            "update-alternatives: using /usr/bin/sar.sysstat to provide /usr/bin/sar (sar) in auto mode\n",
            "Created symlink /etc/systemd/system/multi-user.target.wants/sysstat.service → /lib/systemd/system/sysstat.service.\n",
            "Setting up ssl-cert (1.0.39) ...\n",
            "debconf: unable to initialize frontend: Dialog\n",
            "debconf: (No usable dialog-like program is installed, so the dialog based frontend cannot be used. at /usr/share/perl5/Debconf/FrontEnd/Dialog.pm line 76.)\n",
            "debconf: falling back to frontend: Readline\n",
            "Setting up cron (3.0pl1-128.1ubuntu1) ...\n",
            "Adding group `crontab' (GID 110) ...\n",
            "Done.\n",
            "Created symlink /etc/systemd/system/multi-user.target.wants/cron.service → /lib/systemd/system/cron.service.\n",
            "update-rc.d: warning: start and stop actions are no longer supported; falling back to defaults\n",
            "invoke-rc.d: could not determine current runlevel\n",
            "invoke-rc.d: policy-rc.d denied execution of start.\n",
            "Setting up logrotate (3.11.0-0.1ubuntu1) ...\n",
            "Setting up netbase (5.4) ...\n",
            "Setting up postgresql-client-common (190ubuntu0.1) ...\n",
            "Setting up postgresql-common (190ubuntu0.1) ...\n",
            "debconf: unable to initialize frontend: Dialog\n",
            "debconf: (No usable dialog-like program is installed, so the dialog based frontend cannot be used. at /usr/share/perl5/Debconf/FrontEnd/Dialog.pm line 76.)\n",
            "debconf: falling back to frontend: Readline\n",
            "Adding user postgres to group ssl-cert\n",
            "\n",
            "Creating config file /etc/postgresql-common/createcluster.conf with new version\n",
            "Building PostgreSQL dictionaries from installed myspell/hunspell packages...\n",
            "Removing obsolete dictionary files:\n",
            "Created symlink /etc/systemd/system/multi-user.target.wants/postgresql.service → /lib/systemd/system/postgresql.service.\n",
            "invoke-rc.d: could not determine current runlevel\n",
            "invoke-rc.d: policy-rc.d denied execution of start.\n",
            "Setting up postgresql-client-10 (10.16-0ubuntu0.18.04.1) ...\n",
            "update-alternatives: using /usr/share/postgresql/10/man/man1/psql.1.gz to provide /usr/share/man/man1/psql.1.gz (psql.1.gz) in auto mode\n",
            "Setting up postgresql-10 (10.16-0ubuntu0.18.04.1) ...\n",
            "debconf: unable to initialize frontend: Dialog\n",
            "debconf: (No usable dialog-like program is installed, so the dialog based frontend cannot be used. at /usr/share/perl5/Debconf/FrontEnd/Dialog.pm line 76.)\n",
            "debconf: falling back to frontend: Readline\n",
            "Creating new PostgreSQL cluster 10/main ...\n",
            "/usr/lib/postgresql/10/bin/initdb -D /var/lib/postgresql/10/main --auth-local peer --auth-host md5\n",
            "The files belonging to this database system will be owned by user \"postgres\".\n",
            "This user must also own the server process.\n",
            "\n",
            "The database cluster will be initialized with locale \"en_US.UTF-8\".\n",
            "The default database encoding has accordingly been set to \"UTF8\".\n",
            "The default text search configuration will be set to \"english\".\n",
            "\n",
            "Data page checksums are disabled.\n",
            "\n",
            "fixing permissions on existing directory /var/lib/postgresql/10/main ... ok\n",
            "creating subdirectories ... ok\n",
            "selecting default max_connections ... 100\n",
            "selecting default shared_buffers ... 128MB\n",
            "selecting default timezone ... Etc/UTC\n",
            "selecting dynamic shared memory implementation ... posix\n",
            "creating configuration files ... ok\n",
            "running bootstrap script ... ok\n",
            "performing post-bootstrap initialization ... ok\n",
            "syncing data to disk ... ok\n",
            "\n",
            "Success. You can now start the database server using:\n",
            "\n",
            "    /usr/lib/postgresql/10/bin/pg_ctl -D /var/lib/postgresql/10/main -l logfile start\n",
            "\n",
            "Ver Cluster Port Status Owner    Data directory              Log file\n",
            "\u001b[31m10  main    5432 down   postgres /var/lib/postgresql/10/main /var/log/postgresql/postgresql-10-main.log\u001b[0m\n",
            "update-alternatives: using /usr/share/postgresql/10/man/man1/postmaster.1.gz to provide /usr/share/man/man1/postmaster.1.gz (postmaster.1.gz) in auto mode\n",
            "invoke-rc.d: could not determine current runlevel\n",
            "invoke-rc.d: policy-rc.d denied execution of start.\n",
            "Setting up postgresql (10+190ubuntu0.1) ...\n",
            "Processing triggers for man-db (2.8.3-2ubuntu0.1) ...\n",
            "Processing triggers for systemd (237-3ubuntu10.44) ...\n",
            " * Starting PostgreSQL 10 database server\n",
            "   ...done.\n",
            "ALTER ROLE\n"
          ],
          "name": "stdout"
        }
      ]
    },
    {
      "cell_type": "code",
      "metadata": {
        "colab": {
          "base_uri": "https://localhost:8080/"
        },
        "id": "Fa-mHlU4rlSi",
        "outputId": "c513e8e3-faa1-481e-9538-62f4380c5c00"
      },
      "source": [
        "# Setup a database with name `tfio_demo` to be used\r\n",
        "!sudo -u postgres psql -U postgres -c 'DROP DATABASE IF EXISTS denise_passador_multi;'\r\n",
        "!sudo -u postgres psql -U postgres -c 'CREATE DATABASE denise_passador_multi;'"
      ],
      "execution_count": 5,
      "outputs": [
        {
          "output_type": "stream",
          "text": [
            "NOTICE:  database \"denise_passador_multi\" does not exist, skipping\n",
            "DROP DATABASE\n",
            "CREATE DATABASE\n"
          ],
          "name": "stdout"
        }
      ]
    },
    {
      "cell_type": "markdown",
      "metadata": {
        "id": "EPVvjIwDqQxE"
      },
      "source": [
        "Criar variaveis de ambiente para auxiliar na execução dos comendos de terminal"
      ]
    },
    {
      "cell_type": "code",
      "metadata": {
        "colab": {
          "base_uri": "https://localhost:8080/"
        },
        "id": "zn1jbNqHqPsK",
        "outputId": "c15ef7ec-5966-4da1-c8fa-fa76859bd080"
      },
      "source": [
        "%env DATABASE_NAME=denise_passador_multi\r\n",
        "%env DATABASE_HOST=localhost\r\n",
        "%env DATABASE_PORT=5432\r\n",
        "%env DATABASE_USER=postgres\r\n",
        "%env DATABASE_PASS=postgres"
      ],
      "execution_count": 6,
      "outputs": [
        {
          "output_type": "stream",
          "text": [
            "env: DATABASE_NAME=denise_passador_multi\n",
            "env: DATABASE_HOST=localhost\n",
            "env: DATABASE_PORT=5432\n",
            "env: DATABASE_USER=postgres\n",
            "env: DATABASE_PASS=postgres\n"
          ],
          "name": "stdout"
        }
      ]
    },
    {
      "cell_type": "markdown",
      "metadata": {
        "id": "9un5iy9WsUn2"
      },
      "source": [
        "Fazer o download do dado para a instancia do Colab"
      ]
    },
    {
      "cell_type": "code",
      "metadata": {
        "id": "2vKbi4aFzZj1",
        "colab": {
          "base_uri": "https://localhost:8080/"
        },
        "outputId": "70bf8658-d546-4762-b497-ef9057068062"
      },
      "source": [
        "from google.colab import drive\n",
        "drive.mount('/content/drive')"
      ],
      "execution_count": null,
      "outputs": [
        {
          "output_type": "stream",
          "text": [
            "Mounted at /content/drive\n"
          ],
          "name": "stdout"
        }
      ]
    },
    {
      "cell_type": "code",
      "metadata": {
        "id": "07T9GZO5sL0X"
      },
      "source": [
        "#pip install gdown"
      ],
      "execution_count": null,
      "outputs": []
    },
    {
      "cell_type": "markdown",
      "metadata": {
        "id": "6ZPgiYYhuAeX"
      },
      "source": [
        "Para usar o gdown:\r\n",
        "gdown --id {gdrive_file_id} --output {file_name}"
      ]
    },
    {
      "cell_type": "code",
      "metadata": {
        "id": "w5KcTV3Qt3_W"
      },
      "source": [
        "#gdown --id 15LYMzniqkFKeFSEH5eDzDzLeJMwfSpbG--output \"dump-denise_passador_multi-202102040549.sql\""
      ],
      "execution_count": null,
      "outputs": []
    },
    {
      "cell_type": "code",
      "metadata": {
        "id": "78ehQDPrOGvX",
        "colab": {
          "base_uri": "https://localhost:8080/"
        },
        "outputId": "c31915b2-fa0b-48c9-c601-1acb51201cb7"
      },
      "source": [
        "#!curl -s -OL https://github.com/tensorflow/io/raw/master/docs/tutorials/postgresql/AirQualityUCI.sql\r\n",
        "#!curl -s -OL \"/content/drive/Shareddrives/C4AI - AgroBio/Food Security/Subprojeto-Associados/Dados_evandro_denise_passador_multi/dump-denise_passador_multi-202102040549.sql\"\r\n",
        "\r\n",
        "!PGPASSWORD=$DATABASE_PASS psql -q -h $DATABASE_HOST -p $DATABASE_PORT -U $DATABASE_USER -d $DATABASE_NAME -f \"/content/drive/Shareddrives/C4AI - AgroBio/Food Security/Subprojeto-Associados/Dados_evandro_denise_passador_multi/dump-denise_passador_multi-202102040549.sql\""
      ],
      "execution_count": 8,
      "outputs": [
        {
          "output_type": "stream",
          "text": [
            " set_config \n",
            "------------\n",
            " \n",
            "(1 row)\n",
            "\n",
            "psql:/content/drive/Shareddrives/C4AI - AgroBio/Food Security/Subprojeto-Associados/Dados_evandro_denise_passador_multi/dump-denise_passador_multi-202102040549.sql:26: ERROR:  schema \"public\" already exists\n",
            "psql:/content/drive/Shareddrives/C4AI - AgroBio/Food Security/Subprojeto-Associados/Dados_evandro_denise_passador_multi/dump-denise_passador_multi-202102040549.sql:88: ERROR:  unrecognized configuration parameter \"default_table_access_method\"\n",
            "psql:/content/drive/Shareddrives/C4AI - AgroBio/Food Security/Subprojeto-Associados/Dados_evandro_denise_passador_multi/dump-denise_passador_multi-202102040549.sql:1892436: ERROR:  syntax error at or near \"FUNCTION\"\n",
            "LINE 1: ...E INSERT ON public.documento FOR EACH ROW EXECUTE FUNCTION p...\n",
            "                                                             ^\n",
            "psql:/content/drive/Shareddrives/C4AI - AgroBio/Food Security/Subprojeto-Associados/Dados_evandro_denise_passador_multi/dump-denise_passador_multi-202102040549.sql:1892438: ERROR:  trigger \"documento_tr\" for table \"documento\" does not exist\n",
            "psql:/content/drive/Shareddrives/C4AI - AgroBio/Food Security/Subprojeto-Associados/Dados_evandro_denise_passador_multi/dump-denise_passador_multi-202102040549.sql:1892446: ERROR:  syntax error at or near \"FUNCTION\"\n",
            "LINE 1: ...ORE UPDATE ON public.tarefas FOR EACH ROW EXECUTE FUNCTION p...\n",
            "                                                             ^\n",
            "psql:/content/drive/Shareddrives/C4AI - AgroBio/Food Security/Subprojeto-Associados/Dados_evandro_denise_passador_multi/dump-denise_passador_multi-202102040549.sql:1892473: ERROR:  role \"evandro\" does not exist\n",
            "psql:/content/drive/Shareddrives/C4AI - AgroBio/Food Security/Subprojeto-Associados/Dados_evandro_denise_passador_multi/dump-denise_passador_multi-202102040549.sql:1892482: ERROR:  role \"evandro\" does not exist\n",
            "psql:/content/drive/Shareddrives/C4AI - AgroBio/Food Security/Subprojeto-Associados/Dados_evandro_denise_passador_multi/dump-denise_passador_multi-202102040549.sql:1892491: ERROR:  role \"evandro\" does not exist\n",
            "psql:/content/drive/Shareddrives/C4AI - AgroBio/Food Security/Subprojeto-Associados/Dados_evandro_denise_passador_multi/dump-denise_passador_multi-202102040549.sql:1892500: ERROR:  role \"evandro\" does not exist\n",
            "psql:/content/drive/Shareddrives/C4AI - AgroBio/Food Security/Subprojeto-Associados/Dados_evandro_denise_passador_multi/dump-denise_passador_multi-202102040549.sql:1892509: ERROR:  role \"evandro\" does not exist\n",
            "psql:/content/drive/Shareddrives/C4AI - AgroBio/Food Security/Subprojeto-Associados/Dados_evandro_denise_passador_multi/dump-denise_passador_multi-202102040549.sql:1892518: ERROR:  role \"evandro\" does not exist\n",
            "psql:/content/drive/Shareddrives/C4AI - AgroBio/Food Security/Subprojeto-Associados/Dados_evandro_denise_passador_multi/dump-denise_passador_multi-202102040549.sql:1892527: ERROR:  role \"evandro\" does not exist\n"
          ],
          "name": "stdout"
        }
      ]
    },
    {
      "cell_type": "code",
      "metadata": {
        "colab": {
          "base_uri": "https://localhost:8080/"
        },
        "id": "nSXQmm6mX9Nk",
        "outputId": "03df0b10-dd6e-47b9-e6b6-f6add24e3438"
      },
      "source": [
        "import psycopg2\r\n",
        "import pandas as pd\r\n",
        "conn = psycopg2.connect(host=\"localhost\", port = 5432, database=\"denise_passador_multi\", user=\"postgres\", password=\"postgres\")\r\n",
        "\r\n",
        "# Create a cursor object\r\n",
        "cur = conn.cursor()\r\n",
        "\r\n",
        "# A sample query of all data from the \"vendors\" table in the \"suppliers\" database\r\n",
        "cur.execute(\"\"\"SELECT * FROM municipio\"\"\")\r\n",
        "query_results = cur.fetchall()\r\n",
        "print(query_results)\r\n",
        "\r\n",
        "cur = conn.cursor()\r\n",
        "\r\n",
        "# A function that takes in a PostgreSQL query and outputs a pandas database \r\n",
        "def create_pandas_table(sql_query, database = conn):\r\n",
        "    table = pd.read_sql_query(sql_query, database)\r\n",
        "    return table\r\n",
        "  \r\n",
        "# Utilize the create_pandas_table function to create a Pandas data frame\r\n",
        "# Store the data as a variable\r\n",
        "MUNICIPIO_info = create_pandas_table(\"SELECT * from MUNICIPIO\")\r\n",
        "print(MUNICIPIO_info)\r\n",
        "\r\n",
        "# Close the cursor and connection to so the server can allocate\r\n",
        "# bandwidth to other requests\r\n",
        "cur.close()\r\n",
        "conn.close()\r\n"
      ],
      "execution_count": 24,
      "outputs": [
        {
          "output_type": "stream",
          "text": [
            "[('ADAMANTINA',), ('ADOLFO',), ('AGUAI',), ('AGUAS DA PRATA',), ('AGUAS DE LINDOIA',), ('AGUAS DE SANTA BARBARA',), ('AGUAS DE SAO PEDRO',), ('AGUDOS',), ('ALAMBARI',), ('ALFREDO MARCONDES',), ('ALTAIR',), ('ALTINOPOLIS',), ('ALTO ALEGRE',), ('ALUMINIO',), ('ALVARES FLORENCE',), ('ALVARES MACHADO',), ('ALVARO DE CARVALHO',), ('ALVINLANDIA',), ('AMERICANA',), ('AMERICO BRASILIENSE',), ('AMERICO DE CAMPOS',), ('AMPARO',), ('ANALANDIA',), ('ANDRADINA',), ('ANGATUBA',), ('ANHEMBI',), ('ANHUMAS',), ('APARECIDA',), ('APARECIDA DOESTE',), ('APIAI',), ('ARACARIGUAMA',), ('ARACATUBA',), ('ARACOIABA DA SERRA',), ('ARAMINA',), ('ARANDU',), ('ARAPEI',), ('ARARAQUARA',), ('ARARAS',), ('ARCO-IRIS',), ('AREALVA',), ('AREIAS',), ('AREIOPOLIS',), ('ARIRANHA',), ('ARTUR NOGUEIRA',), ('ARUJA',), ('ASPASIA',), ('ASSIS',), ('ATIBAIA',), ('AURIFLAMA',), ('AVAI',), ('AVANHANDAVA',), ('AVARE',), ('BADY BASSITT',), ('BALBINOS',), ('BALSAMO',), ('BANANAL',), ('BARAO DE ANTONINA',), ('BARBOSA',), ('BARIRI',), ('BARRA BONITA',), ('BARRA DO CHAPEU',), ('BARRA DO TURVO',), ('BARRETOS',), ('BARRINHA',), ('BARUERI',), ('BASTOS',), ('BATATAIS',), ('BAURU',), ('BEBEDOURO',), ('BENTO DE ABREU',), ('BERNARDINO DE CAMPOS',), ('BERTIOGA',), ('BILAC',), ('BIRIGUI',), ('BIRITIBA-MIRIM',), ('BOA ESPERANCA DO SUL',), ('BOCAINA',), ('BOFETE',), ('BOITUVA',), ('BOM JESUS DOS PERDOES',), ('BOM SUCESSO DE ITARARE',), ('BORA',), ('BORACEIA',), ('BORBOREMA',), ('BOREBI',), ('BOTUCATU',), ('BRAGANCA PAULISTA',), ('BRAUNA',), ('BREJO ALEGRE',), ('BRODOWSKY',), ('BROTAS',), ('BURI',), ('BURITAMA',), ('BURITIZAL',), ('CABRALIA PAULISTA',), ('CABREUVA',), ('CACAPAVA',), ('CACHOEIRA PAULISTA',), ('CACONDE',), ('CAFELANDIA',), ('CAIABU',), ('CAIEIRAS',), ('CAIUA',), ('CAJAMAR',), ('CAJATI',), ('CAJOBI',), ('CAJURU',), ('CAMPINA DO MONTE ALEGRE',), ('CAMPINAS',), ('CAMPO LIMPO PAULISTA',), ('CAMPOS DO JORDAO',), ('CAMPOS NOVOS PAULISTA',), ('CANANEIA',), ('CANAS',), ('CANDIDO MOTA',), ('CANDIDO RODRIGUES',), ('CANITAR',), ('CAPAO BONITO',), ('CAPELA DO ALTO',), ('CAPIVARI',), ('CARAGUATATUBA',), ('CARAPICUIBA',), ('CARDOSO',), ('CASA BRANCA',), ('CASSIA DOS COQUEIROS',), ('CASTILHO',), ('CATANDUVA',), ('CATIGUA',), ('CEDRAL',), ('CERQUEIRA CESAR',), ('CERQUILHO',), ('CESARIO LANGE',), ('CHARQUEADA',), ('CHAVANTES',), ('CLEMENTINA',), ('COLINA',), ('COLOMBIA',), ('CONCHAL',), ('CONCHAS',), ('CORDEIROPOLIS',), ('COROADOS',), ('CORONEL MACEDO',), ('CORUMBATAI',), ('COSMOPOLIS',), ('COSMORAMA',), ('COTIA',), ('CRAVINHOS',), ('CRISTAIS PAULISTA',), ('CRUZALIA',), ('CRUZEIRO',), ('CUBATAO',), ('CUNHA',), ('DESCALVADO',), ('DIADEMA',), ('DIRCE REIS',), ('DIVINOLANDIA',), ('DOBRADA',), ('DOIS CORREGOS',), ('DOLCINOPOLIS',), ('DOURADO',), ('DRACENA',), ('DUARTINA',), ('DUMONT',), ('ECHAPORA',), ('ELDORADO',), ('ELIAS FAUSTO',), ('ELISIARIO',), ('EMBAUBA',), ('EMBU',), ('EMBU-GUACU',), ('EMILIANOPOLIS',), ('ENGENHEIRO COELHO',), ('ESPIRITO SANTO DO PINHAL',), ('ESPIRITO SANTO DO TURVO',), ('ESTIVA GERBI',), ('ESTRELA DO NORTE',), ('ESTRELA DOESTE',), ('EUCLIDES DA CUNHA PAULISTA',), ('FARTURA',), ('FERNANDO PRESTES',), ('FERNANDOPOLIS',), ('FERNAO',), ('FERRAZ DE VASCONCELOS',), ('FLORA RICA',), ('FLOREAL',), ('FLORIDA PAULISTA',), ('FLORINIA',), ('FRANCA',), ('FRANCISCO MORATO',), ('FRANCO DA ROCHA',), ('GABRIEL MONTEIRO',), ('GALIA',), ('GARCA',), ('GASTAO VIDIGAL',), ('GAVIAO PEIXOTO',), ('GENERAL SALGADO',), ('GETULINA',), ('GLICERIO',), ('GUAICARA',), ('GUAIMBE',), ('GUAIRA',), ('GUAPIACU',), ('GUAPIARA',), ('GUARA',), ('GUARACAI',), ('GUARACI',), ('GUARANI DOESTE',), ('GUARANTA',), ('GUARARAPES',), ('GUARAREMA',), ('GUARATINGUETA',), ('GUAREI',), ('GUARIBA',), ('GUARUJA',), ('GUARULHOS',), ('GUATAPARA',), ('GUZOLANDIA',), ('HERCULANDIA',), ('HOLAMBRA',), ('HORTOLANDIA',), ('IACANGA',), ('IACRI',), ('IARAS',), ('IBATE',), ('IBIRA',), ('IBIRAREMA',), ('IBITINGA',), ('IBIUNA',), ('ICEM',), ('IEPE',), ('IGARACU DO TIETE',), ('IGARAPAVA',), ('IGARATA',), ('IGUAPE',), ('ILHA COMPRIDA',), ('ILHA SOLTEIRA',), ('ILHABELA',), ('INDAIATUBA',), ('INDIANA',), ('INDIAPORA',), ('INUBIA PAULISTA',), ('IPAUSSU',), ('IPERO',), ('IPEUNA',), ('IPIGUA',), ('IPORANGA',), ('IPUA',), ('IRACEMAPOLIS',), ('IRAPUA',), ('IRAPURU',), ('ITABERA',), ('ITAI',), ('ITAJOBI',), ('ITAJU',), ('ITANHAEM',), ('ITAOCA',), ('ITAPECERICA DA SERRA',), ('ITAPETININGA',), ('ITAPEVA',), ('ITAPEVI',), ('ITAPIRA',), ('ITAPIRAPUA PAULISTA',), ('ITAPOLIS',), ('ITAPORANGA',), ('ITAPUI',), ('ITAPURA',), ('ITAQUAQUECETUBA',), ('ITARARE',), ('ITARIRI',), ('ITATIBA',), ('ITATINGA',), ('ITIRAPINA',), ('ITIRAPUA',), ('ITOBI',), ('ITU',), ('ITUPEVA',), ('ITUVERAVA',), ('JABORANDI',), ('JABOTICABAL',), ('JACAREI',), ('JACI',), ('JACUPIRANGA',), ('JAGUARIUNA',), ('JALES',), ('JAMBEIRO',), ('JANDIRA',), ('JARDINOPOLIS',), ('JARINU',), ('JAU',), ('JERIQUARA',), ('JOANOPOLIS',), ('JOAO RAMALHO',), ('JOSE BONIFACIO',), ('JULIO MESQUITA',), ('JUMIRIM',), ('JUNDIAI',), ('JUNQUEIROPOLIS',), ('JUQUIA',), ('JUQUITIBA',), ('LAGOINHA',), ('LARANJAL PAULISTA',), ('LAVINIA',), ('LAVRINHAS',), ('LEME',), ('LENCOIS PAULISTA',), ('LIMEIRA',), ('LINDOIA',), ('LINS',), ('LORENA',), ('LOURDES',), ('LOUVEIRA',), ('LUCELIA',), ('LUCIANOPOLIS',), ('LUIS ANTONIO',), ('LUIZIANIA',), ('LUPERCIO',), ('LUTECIA',), ('MACATUBA',), ('MACAUBAL',), ('MACEDONIA',), ('MAGDA',), ('MAIRINQUE',), ('MAIRIPORA',), ('MANDURI',), ('MARABA PAULISTA',), ('MARACAI',), ('MARAPOAMA',), ('MARIAPOLIS',), ('MARILIA',), ('MARINOPOLIS',), ('MARTINOPOLIS',), ('MATAO',), ('MAUA',), ('MENDONCA',), ('MERIDIANO',), ('MESOPOLIS',), ('MIGUELOPOLIS',), ('MINEIROS DO TIETE',), ('MIRA ESTRELA',), ('MIRACATU',), ('MIRANDOPOLIS',), ('MIRANTE DO PARANAPANEMA',), ('MIRASSOL',), ('MIRASSOLANDIA',), ('MOCOCA',), ('MOGI DAS CRUZES',), ('MOGI-GUACU',), ('MOJI-MIRIM',), ('MOMBUCA',), ('MONCOES',), ('MONGAGUA',), ('MONTE ALEGRE DO SUL',), ('MONTE ALTO',), ('MONTE APRAZIVEL',), ('MONTE AZUL PAULISTA',), ('MONTE CASTELO',), ('MONTE MOR',), ('MONTEIRO LOBATO',), ('MORRO AGUDO',), ('MORUNGABA',), ('MOTUCA',), ('MURUTINGA DO SUL',), ('NANTES',), ('NARANDIBA',), ('NATIVIDADE DA SERRA',), ('NAZARE PAULISTA',), ('NEVES PAULISTA',), ('NHANDEARA',), ('NIPOA',), ('NOVA ALIANCA',), ('NOVA CAMPINA',), ('NOVA CANAA PAULISTA',), ('NOVA CASTILHO',), ('NOVA EUROPA',), ('NOVA GRANADA',), ('NOVA GUATAPORANGA',), ('NOVA INDEPENDENCIA',), ('NOVA LUZITANIA',), ('NOVA ODESSA',), ('NOVAIS',), ('NOVO HORIZONTE',), ('NUPORANGA',), ('OCAUCU',), ('OLEO',), ('OLIMPIA',), ('ONDA VERDE',), ('ORIENTE',), ('ORINDIUVA',), ('ORLANDIA',), ('OSASCO',), ('OSCAR BRESSANE',), ('OSVALDO CRUZ',), ('OURINHOS',), ('OURO VERDE',), ('OUROESTE',), ('PACAEMBU',), ('PALESTINA',), ('PALMARES PAULISTA',), ('PALMEIRA DOESTE',), ('PALMITAL',), ('PANORAMA',), ('PARAGUACU PAULISTA',), ('PARAIBUNA',), ('PARAISO',), ('PARANAPANEMA',), ('PARANAPUA',), ('PARAPUA',), ('PARDINHO',), ('PARIQUERA-ACU',), ('PARISI',), ('PATROCINIO PAULISTA',), ('PAULICEIA',), ('PAULINIA',), ('PAULISTANIA',), ('PAULO DE FARIA',), ('PEDERNEIRAS',), ('PEDRA BELA',), ('PEDRANOPOLIS',), ('PEDREGULHO',), ('PEDREIRA',), ('PEDRINHAS PAULISTA',), ('PEDRO DE TOLEDO',), ('PENAPOLIS',), ('PEREIRA BARRETO',), ('PEREIRAS',), ('PERUIBE',), ('PIACATU',), ('PIEDADE',), ('PILAR DO SUL',), ('PINDAMONHANGABA',), ('PINDORAMA',), ('PINHALZINHO',), ('PIQUEROBI',), ('PIQUETE',), ('PIRACAIA',), ('PIRACICABA',), ('PIRAJU',), ('PIRAJUI',), ('PIRANGI',), ('PIRAPORA DO BOM JESUS',), ('PIRAPOZINHO',), ('PIRASSUNUNGA',), ('PIRATININGA',), ('PITANGUEIRAS',), ('PLANALTO',), ('PLATINA',), ('POA',), ('POLONI',), ('POMPEIA',), ('PONGAI',), ('PONTAL',), ('PONTALINDA',), ('PONTES GESTAL',), ('POPULINA',), ('PORANGABA',), ('PORTO FELIZ',), ('PORTO FERREIRA',), ('POTIM',), ('POTIRENDABA',), ('PRACINHA',), ('PRADOPOLIS',), ('PRAIA GRANDE',), ('PRATANIA',), ('PRESIDENTE ALVES',), ('PRESIDENTE BERNARDES',), ('PRESIDENTE EPITACIO',), ('PRESIDENTE PRUDENTE',), ('PRESIDENTE VENCESLAU',), ('PROMISSAO',), ('QUADRA',), ('QUATA',), ('QUEIROZ',), ('QUELUZ',), ('QUINTANA',), ('RAFARD',), ('RANCHARIA',), ('REDENCAO DA SERRA',), ('REGENTE FEIJO',), ('REGINOPOLIS',), ('REGISTRO',), ('RESTINGA',), ('RIBEIRA',), ('RIBEIRAO BONITO',), ('RIBEIRAO BRANCO',), ('RIBEIRAO CORRENTE',), ('RIBEIRAO DO SUL',), ('RIBEIRAO DOS INDIOS',), ('RIBEIRAO GRANDE',), ('RIBEIRAO PIRES',), ('RIBEIRAO PRETO',), ('RIFAINA',), ('RINCAO',), ('RINOPOLIS',), ('RIO CLARO',), ('RIO DAS PEDRAS',), ('RIO GRANDE DA SERRA',), ('RIOLANDIA',), ('RIVERSUL',), ('ROSANA',), ('ROSEIRA',), ('RUBIACEA',), ('RUBINEIA',), ('SABINO',), ('SAGRES',), ('SALES',), ('SALES OLIVEIRA',), ('SALESOPOLIS',), ('SALMOURAO',), ('SALTINHO',), ('SALTO',), ('SALTO DE PIRAPORA',), ('SALTO GRANDE',), ('SANDOVALINA',), ('SANTA ADELIA',), ('SANTA ALBERTINA',), ('SANTA BARBARA DOESTE',), ('SANTA BRANCA',), ('SANTA CLARA DOESTE',), ('SANTA CRUZ DA CONCEICAO',), ('SANTA CRUZ DA ESPERANCA',), ('SANTA CRUZ DAS PALMEIRAS',), ('SANTA CRUZ DO RIO PARDO',), ('SANTA ERNESTINA',), ('SANTA FE DO SUL',), ('SANTA GERTRUDES',), ('SANTA ISABEL',), ('SANTA LUCIA',), ('SANTA MARIA DA SERRA',), ('SANTA MERCEDES',), ('SANTA RITA DO PASSA QUATRO',), ('SANTA RITA DOESTE',), ('SANTA ROSA DE VITERBO',), ('SANTA SALETE',), ('SANTANA DA PONTE PENSA',), ('SANTANA DE PARNAIBA',), ('SANTO ANASTACIO',), ('SANTO ANDRE',), ('SANTO ANTONIO DA ALEGRIA',), ('SANTO ANTONIO DE POSSE',), ('SANTO ANTONIO DO ARACANGUA',), ('SANTO ANTONIO DO JARDIM',), ('SANTO ANTONIO DO PINHAL',), ('SANTO EXPEDITO',), ('SANTOPOLIS DO AGUAPEI',), ('SANTOS',), ('SAO BENTO DO SAPUCAI',), ('SAO BERNARDO DO CAMPO',), ('SAO CAETANO DO SUL',), ('SAO CARLOS',), ('SAO FRANCISCO',), ('SAO JOAO DA BOA VISTA',), ('SAO JOAO DAS DUAS PONTES',), ('SAO JOAO DE IRACEMA',), ('SAO JOAO DO PAU DALHO',), ('SAO JOAQUIM DA BARRA',), ('SAO JOSE DA BELA VISTA',), ('SAO JOSE DO BARREIRO',), ('SAO JOSE DO RIO PARDO',), ('SAO JOSE DO RIO PRETO',), ('SAO JOSE DOS CAMPOS',), ('SAO LOURENCO DA SERRA',), ('SAO LUIS DO PARAITINGA',), ('SAO MANUEL',), ('SAO MIGUEL ARCANJO',), ('SAO PAULO',), ('SAO PEDRO',), ('SAO PEDRO DO TURVO',), ('SAO ROQUE',), ('SAO SEBASTIAO',), ('SAO SEBASTIAO DA GRAMA',), ('SAO SIMAO',), ('SAO VICENTE',), ('SARAPUI',), ('SARUTAIA',), ('SEBASTIANOPOLIS DO SUL',), ('SERRA AZUL',), ('SERRA NEGRA',), ('SERRANA',), ('SERTAOZINHO',), ('SETE BARRAS',), ('SEVERINIA',), ('SILVEIRAS',), ('SOCORRO',), ('SOROCABA',), ('SUD MENNUCCI',), ('SUMARE',), ('SUZANAPOLIS',), ('SUZANO',), ('TABAPUA',), ('TABATINGA',), ('TABOAO DA SERRA',), ('TACIBA',), ('TAGUAI',), ('TAIACU',), ('TAIUVA',), ('TAMBAU',), ('TANABI',), ('TAPIRAI',), ('TAPIRATIBA',), ('TAQUARAL',), ('TAQUARITINGA',), ('TAQUARITUBA',), ('TAQUARIVAI',), ('TARABAI',), ('TARUMA',), ('TATUI',), ('TAUBATE',), ('TEJUPA',), ('TEODORO SAMPAIO',), ('TERRA ROXA',), ('TIETE',), ('TIMBURI',), ('TORRE DE PEDRA',), ('TORRINHA',), ('TRABIJU',), ('TREMEMBE',), ('TRES FRONTEIRAS',), ('TUIUTI',), ('TUPA',), ('TUPI PAULISTA',), ('TURIUBA',), ('TURMALINA',), ('UBARANA',), ('UBATUBA',), ('UBIRAJARA',), ('UCHOA',), ('UNIAO PAULISTA',), ('URANIA',), ('URU',), ('URUPES',), ('VALENTIM GENTIL',), ('VALINHOS',), ('VALPARAISO',), ('VARGEM',), ('VARGEM GRANDE DO SUL',), ('VARGEM GRANDE PAULISTA',), ('VARZEA PAULISTA',), ('VERA CRUZ',), ('VINHEDO',), ('VIRADOURO',), ('VISTA ALEGRE DO ALTO',), ('VITORIA BRASIL',), ('VOTORANTIM',), ('VOTUPORANGA',), ('ZACARIAS',)]\n",
            "                municipio\n",
            "0              ADAMANTINA\n",
            "1                  ADOLFO\n",
            "2                   AGUAI\n",
            "3          AGUAS DA PRATA\n",
            "4        AGUAS DE LINDOIA\n",
            "..                    ...\n",
            "640  VISTA ALEGRE DO ALTO\n",
            "641        VITORIA BRASIL\n",
            "642            VOTORANTIM\n",
            "643           VOTUPORANGA\n",
            "644              ZACARIAS\n",
            "\n",
            "[645 rows x 1 columns]\n"
          ],
          "name": "stdout"
        }
      ]
    },
    {
      "cell_type": "markdown",
      "metadata": {
        "id": "HvERwacgbCml"
      },
      "source": [
        "\r\n",
        "**Acessar postgres com R**:"
      ]
    },
    {
      "cell_type": "code",
      "metadata": {
        "colab": {
          "base_uri": "https://localhost:8080/"
        },
        "id": "0pncX0jlUEni",
        "outputId": "45b0ac98-b188-438c-d398-7c67be60f326"
      },
      "source": [
        "%%R \r\n",
        "#Criado por Wilian França Costa wilianfc@gmail.com\r\n",
        "\r\n",
        "#instalar o devtools e Rgdal\r\n",
        "install.packages(\"devtools\")\r\n",
        "install.packages(\"rgdal\")\r\n",
        "#baixar os sources\r\n",
        "devtools::install_github(\"rstats-db/DBI\")\r\n",
        "#Instalar a partir do código fonte\r\n",
        "install.packages(\"RPostgreSQL\", type=\"source\")# se solicitar o Rtools no windows baixe em https://cran.r-project.org/bin/windows/Rtools/history.html\r\n",
        "#teste\r\n",
        "#Connect to postgis for geospatial queries\r\n",
        "#install.packages(\"RPostgreSQL\")\r\n",
        "require(RPostgreSQL)\r\n",
        "#enviromment defaults\r\n",
        "#p4s_geo<-\"+proj=longlat +datum=WGS84\"\r\n",
        "#crs.geo<-CRS(p4s_geo)\r\n",
        "pg_user<-\"postgres\"\r\n",
        "pg_passwd<-\"postgres\"\r\n",
        "pg_port<-5432\r\n",
        "pg_host<-\"localhost\"\r\n",
        "pg_dbname<-\"denise_passador_multi\"\r\n",
        "\r\n",
        "#database conections\r\n",
        "dsn<-paste(\"PG:dbname =\", pg_dbname, \"user =\", pg_user, \"password =\",pg_passwd, \"port =\", pg_port, \"host=\", pg_host)\r\n",
        "\r\n",
        "drv <- dbDriver(\"PostgreSQL\")\r\n",
        "con <- dbConnect(drv,user=pg_user, password=pg_passwd, dbname=pg_dbname, port=pg_port, host=pg_host)\r\n",
        "\r\n",
        "#para tabelas normais\r\n",
        "documento_list <- postgresqlReadTable(con, 'documento')\r\n",
        "itens_list <- postgresqlReadTable(con, 'itens')\r\n",
        "municipio_list <- postgresqlReadTable(con, 'municipio')\r\n",
        "tarefas_list <- postgresqlReadTable(con, 'tarefas')\r\n"
      ],
      "execution_count": 26,
      "outputs": [
        {
          "output_type": "stream",
          "text": [
            "R[write to console]: Installing package into ‘/usr/local/lib/R/site-library’\n",
            "(as ‘lib’ is unspecified)\n",
            "\n",
            "R[write to console]: trying URL 'https://cran.rstudio.com/src/contrib/devtools_2.3.2.tar.gz'\n",
            "\n",
            "R[write to console]: Content type 'application/x-gzip'\n",
            "R[write to console]:  length 373387 bytes (364 KB)\n",
            "\n",
            "R[write to console]: =\n",
            "R[write to console]: =\n",
            "R[write to console]: =\n",
            "R[write to console]: =\n",
            "R[write to console]: =\n",
            "R[write to console]: =\n",
            "R[write to console]: =\n",
            "R[write to console]: =\n",
            "R[write to console]: =\n",
            "R[write to console]: =\n",
            "R[write to console]: =\n",
            "R[write to console]: =\n",
            "R[write to console]: =\n",
            "R[write to console]: =\n",
            "R[write to console]: =\n",
            "R[write to console]: =\n",
            "R[write to console]: =\n",
            "R[write to console]: =\n",
            "R[write to console]: =\n",
            "R[write to console]: =\n",
            "R[write to console]: =\n",
            "R[write to console]: =\n",
            "R[write to console]: =\n",
            "R[write to console]: =\n",
            "R[write to console]: =\n",
            "R[write to console]: =\n",
            "R[write to console]: =\n",
            "R[write to console]: =\n",
            "R[write to console]: =\n",
            "R[write to console]: =\n",
            "R[write to console]: =\n",
            "R[write to console]: =\n",
            "R[write to console]: =\n",
            "R[write to console]: =\n",
            "R[write to console]: =\n",
            "R[write to console]: =\n",
            "R[write to console]: =\n",
            "R[write to console]: =\n",
            "R[write to console]: =\n",
            "R[write to console]: =\n",
            "R[write to console]: =\n",
            "R[write to console]: =\n",
            "R[write to console]: =\n",
            "R[write to console]: =\n",
            "R[write to console]: =\n",
            "R[write to console]: =\n",
            "R[write to console]: =\n",
            "R[write to console]: =\n",
            "R[write to console]: =\n",
            "R[write to console]: =\n",
            "R[write to console]: \n",
            "\n",
            "R[write to console]: downloaded 364 KB\n",
            "\n",
            "\n",
            "R[write to console]: \n",
            "\n",
            "R[write to console]: \n",
            "R[write to console]: The downloaded source packages are in\n",
            "\t‘/tmp/RtmpcnXKbQ/downloaded_packages’\n",
            "R[write to console]: \n",
            "R[write to console]: \n",
            "\n",
            "R[write to console]: Installing package into ‘/usr/local/lib/R/site-library’\n",
            "(as ‘lib’ is unspecified)\n",
            "\n",
            "R[write to console]: trying URL 'https://cran.rstudio.com/src/contrib/rgdal_1.5-23.tar.gz'\n",
            "\n",
            "R[write to console]: Content type 'application/x-gzip'\n",
            "R[write to console]:  length 4393536 bytes (4.2 MB)\n",
            "\n",
            "R[write to console]: =\n",
            "R[write to console]: =\n",
            "R[write to console]: =\n",
            "R[write to console]: =\n",
            "R[write to console]: =\n",
            "R[write to console]: =\n",
            "R[write to console]: =\n",
            "R[write to console]: =\n",
            "R[write to console]: =\n",
            "R[write to console]: =\n",
            "R[write to console]: =\n",
            "R[write to console]: =\n",
            "R[write to console]: =\n",
            "R[write to console]: =\n",
            "R[write to console]: =\n",
            "R[write to console]: =\n",
            "R[write to console]: =\n",
            "R[write to console]: =\n",
            "R[write to console]: =\n",
            "R[write to console]: =\n",
            "R[write to console]: =\n",
            "R[write to console]: =\n",
            "R[write to console]: =\n",
            "R[write to console]: =\n",
            "R[write to console]: =\n",
            "R[write to console]: =\n",
            "R[write to console]: =\n",
            "R[write to console]: =\n",
            "R[write to console]: =\n",
            "R[write to console]: =\n",
            "R[write to console]: =\n",
            "R[write to console]: =\n",
            "R[write to console]: =\n",
            "R[write to console]: =\n",
            "R[write to console]: =\n",
            "R[write to console]: =\n",
            "R[write to console]: =\n",
            "R[write to console]: =\n",
            "R[write to console]: =\n",
            "R[write to console]: =\n",
            "R[write to console]: =\n",
            "R[write to console]: =\n",
            "R[write to console]: =\n",
            "R[write to console]: =\n",
            "R[write to console]: =\n",
            "R[write to console]: =\n",
            "R[write to console]: =\n",
            "R[write to console]: =\n",
            "R[write to console]: =\n",
            "R[write to console]: =\n",
            "R[write to console]: \n",
            "\n",
            "R[write to console]: downloaded 4.2 MB\n",
            "\n",
            "\n",
            "R[write to console]: \n",
            "\n",
            "R[write to console]: \n",
            "R[write to console]: The downloaded source packages are in\n",
            "\t‘/tmp/RtmpcnXKbQ/downloaded_packages’\n",
            "R[write to console]: \n",
            "R[write to console]: \n",
            "\n",
            "R[write to console]: Skipping install of 'DBI' from a github remote, the SHA1 (ee1ae689) has not changed since last install.\n",
            "  Use `force = TRUE` to force installation\n",
            "\n",
            "R[write to console]: Installing package into ‘/usr/local/lib/R/site-library’\n",
            "(as ‘lib’ is unspecified)\n",
            "\n",
            "R[write to console]: trying URL 'https://cran.rstudio.com/src/contrib/RPostgreSQL_0.6-2.tar.gz'\n",
            "\n",
            "R[write to console]: Content type 'application/x-gzip'\n",
            "R[write to console]:  length 579968 bytes (566 KB)\n",
            "\n",
            "R[write to console]: =\n",
            "R[write to console]: =\n",
            "R[write to console]: =\n",
            "R[write to console]: =\n",
            "R[write to console]: =\n",
            "R[write to console]: =\n",
            "R[write to console]: =\n",
            "R[write to console]: =\n",
            "R[write to console]: =\n",
            "R[write to console]: =\n",
            "R[write to console]: =\n",
            "R[write to console]: =\n",
            "R[write to console]: =\n",
            "R[write to console]: =\n",
            "R[write to console]: =\n",
            "R[write to console]: =\n",
            "R[write to console]: =\n",
            "R[write to console]: =\n",
            "R[write to console]: =\n",
            "R[write to console]: =\n",
            "R[write to console]: =\n",
            "R[write to console]: =\n",
            "R[write to console]: =\n",
            "R[write to console]: =\n",
            "R[write to console]: =\n",
            "R[write to console]: =\n",
            "R[write to console]: =\n",
            "R[write to console]: =\n",
            "R[write to console]: =\n",
            "R[write to console]: =\n",
            "R[write to console]: =\n",
            "R[write to console]: =\n",
            "R[write to console]: =\n",
            "R[write to console]: =\n",
            "R[write to console]: =\n",
            "R[write to console]: =\n",
            "R[write to console]: =\n",
            "R[write to console]: =\n",
            "R[write to console]: =\n",
            "R[write to console]: =\n",
            "R[write to console]: =\n",
            "R[write to console]: =\n",
            "R[write to console]: =\n",
            "R[write to console]: =\n",
            "R[write to console]: =\n",
            "R[write to console]: =\n",
            "R[write to console]: =\n",
            "R[write to console]: =\n",
            "R[write to console]: =\n",
            "R[write to console]: =\n",
            "R[write to console]: \n",
            "\n",
            "R[write to console]: downloaded 566 KB\n",
            "\n",
            "\n",
            "R[write to console]: \n",
            "\n",
            "R[write to console]: \n",
            "R[write to console]: The downloaded source packages are in\n",
            "\t‘/tmp/RtmpcnXKbQ/downloaded_packages’\n",
            "R[write to console]: \n",
            "R[write to console]: \n",
            "\n"
          ],
          "name": "stderr"
        }
      ]
    },
    {
      "cell_type": "code",
      "metadata": {
        "colab": {
          "base_uri": "https://localhost:8080/",
          "height": 402
        },
        "id": "qJlK4123co90",
        "outputId": "24e920f2-56de-4f67-8168-54d6ebaea836"
      },
      "source": [
        "#passando a variavel para o python\r\n",
        "#documento_list =% R documento_list\r\n",
        "#item_list =% R itens_list\r\n",
        "municipio_list =% R municipio_list\r\n",
        "#tarefas_list =% R  tarefas_list\r\n",
        "\r\n",
        "municipio_list\r\n"
      ],
      "execution_count": 29,
      "outputs": [
        {
          "output_type": "execute_result",
          "data": {
            "text/html": [
              "<div>\n",
              "<style scoped>\n",
              "    .dataframe tbody tr th:only-of-type {\n",
              "        vertical-align: middle;\n",
              "    }\n",
              "\n",
              "    .dataframe tbody tr th {\n",
              "        vertical-align: top;\n",
              "    }\n",
              "\n",
              "    .dataframe thead th {\n",
              "        text-align: right;\n",
              "    }\n",
              "</style>\n",
              "<table border=\"1\" class=\"dataframe\">\n",
              "  <thead>\n",
              "    <tr style=\"text-align: right;\">\n",
              "      <th></th>\n",
              "      <th>municipio</th>\n",
              "    </tr>\n",
              "  </thead>\n",
              "  <tbody>\n",
              "    <tr>\n",
              "      <th>1</th>\n",
              "      <td>ADAMANTINA</td>\n",
              "    </tr>\n",
              "    <tr>\n",
              "      <th>2</th>\n",
              "      <td>ADOLFO</td>\n",
              "    </tr>\n",
              "    <tr>\n",
              "      <th>3</th>\n",
              "      <td>AGUAI</td>\n",
              "    </tr>\n",
              "    <tr>\n",
              "      <th>4</th>\n",
              "      <td>AGUAS DA PRATA</td>\n",
              "    </tr>\n",
              "    <tr>\n",
              "      <th>5</th>\n",
              "      <td>AGUAS DE LINDOIA</td>\n",
              "    </tr>\n",
              "    <tr>\n",
              "      <th>...</th>\n",
              "      <td>...</td>\n",
              "    </tr>\n",
              "    <tr>\n",
              "      <th>641</th>\n",
              "      <td>VISTA ALEGRE DO ALTO</td>\n",
              "    </tr>\n",
              "    <tr>\n",
              "      <th>642</th>\n",
              "      <td>VITORIA BRASIL</td>\n",
              "    </tr>\n",
              "    <tr>\n",
              "      <th>643</th>\n",
              "      <td>VOTORANTIM</td>\n",
              "    </tr>\n",
              "    <tr>\n",
              "      <th>644</th>\n",
              "      <td>VOTUPORANGA</td>\n",
              "    </tr>\n",
              "    <tr>\n",
              "      <th>645</th>\n",
              "      <td>ZACARIAS</td>\n",
              "    </tr>\n",
              "  </tbody>\n",
              "</table>\n",
              "<p>645 rows × 1 columns</p>\n",
              "</div>"
            ],
            "text/plain": [
              "                municipio\n",
              "1              ADAMANTINA\n",
              "2                  ADOLFO\n",
              "3                   AGUAI\n",
              "4          AGUAS DA PRATA\n",
              "5        AGUAS DE LINDOIA\n",
              "..                    ...\n",
              "641  VISTA ALEGRE DO ALTO\n",
              "642        VITORIA BRASIL\n",
              "643            VOTORANTIM\n",
              "644           VOTUPORANGA\n",
              "645              ZACARIAS\n",
              "\n",
              "[645 rows x 1 columns]"
            ]
          },
          "metadata": {
            "tags": []
          },
          "execution_count": 29
        }
      ]
    },
    {
      "cell_type": "markdown",
      "metadata": {
        "id": "TvStCd0zeGmQ"
      },
      "source": [
        "**Escolha o método que lhe for mais conveniente :)**"
      ]
    }
  ]
}
